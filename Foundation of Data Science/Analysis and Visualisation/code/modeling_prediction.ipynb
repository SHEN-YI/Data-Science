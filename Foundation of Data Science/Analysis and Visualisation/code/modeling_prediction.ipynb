{
 "cells": [
  {
   "cell_type": "code",
   "execution_count": 1372,
   "metadata": {
    "collapsed": true
   },
   "outputs": [],
   "source": [
    "import pandas as pd\n",
    "import numpy as np\n",
    "from sklearn.svm import SVR\n",
    "import matplotlib.pyplot as plt\n",
    "from sklearn import linear_model\n",
    "from sklearn.metrics import mean_squared_error, r2_score\n",
    "from sklearn.model_selection import train_test_split"
   ]
  },
  {
   "cell_type": "code",
   "execution_count": 1373,
   "metadata": {
    "collapsed": true
   },
   "outputs": [],
   "source": [
    "movie=pd.read_csv('/Users/diwu/Desktop/Group Project/compare2.csv')"
   ]
  },
  {
   "cell_type": "code",
   "execution_count": 1374,
   "metadata": {
    "scrolled": true
   },
   "outputs": [
    {
     "data": {
      "text/plain": [
       "3956"
      ]
     },
     "execution_count": 1374,
     "metadata": {},
     "output_type": "execute_result"
    }
   ],
   "source": [
    "len(movie)"
   ]
  },
  {
   "cell_type": "code",
   "execution_count": 1375,
   "metadata": {
    "collapsed": true
   },
   "outputs": [],
   "source": [
    "del movie['Unnamed: 0']\n",
    "#del movie['Theaters']\n",
    "#del movie['Country']\n",
    "#del movie['Genre']\n",
    "#del movie['Rated']\n",
    "#del movie['Runtime']\n",
    "#del movie['Language']\n",
    "#del movie['imdbRating']\n",
    "#del movie['Actorinfluenceaverage']\n",
    "#del movie['if_actorinfluence']\n",
    "#del movie['Average Gross for each movie']\n",
    "#del movie['if_average_gross']\n",
    "#del movie['googletrends']\n",
    "#del movie['last year_totalgross']\n",
    "#del movie['genre_gross']\n",
    "#del movie['count_num']"
   ]
  },
  {
   "cell_type": "code",
   "execution_count": 1376,
   "metadata": {
    "collapsed": true,
    "scrolled": true
   },
   "outputs": [],
   "source": [
    "moviedata=movie.values"
   ]
  },
  {
   "cell_type": "code",
   "execution_count": 1377,
   "metadata": {},
   "outputs": [
    {
     "data": {
      "text/plain": [
       "array([[ 1.56838146, -0.70717154,  0.21893763, ..., -0.61584295,\n",
       "        -0.02585257,  0.00269417],\n",
       "       [-0.48949666,  1.76943133, -0.16027308, ..., -0.61584295,\n",
       "         0.7965872 , -0.13158078],\n",
       "       [-0.58710672, -0.70717154, -0.16027308, ..., -0.61584295,\n",
       "        -1.02337756, -0.15176598],\n",
       "       ..., \n",
       "       [-0.54596529,  0.77879018, -0.5394838 , ..., -0.61584295,\n",
       "         1.12141635, -0.15191901],\n",
       "       [-0.59033349, -0.70717154,  1.73578049, ..., -0.61584295,\n",
       "         0.44641676, -0.1529352 ],\n",
       "       [-0.56613265, -0.70717154, -0.5394838 , ..., -0.61584295,\n",
       "        -0.75153472, -0.14981852]])"
      ]
     },
     "execution_count": 1377,
     "metadata": {},
     "output_type": "execute_result"
    }
   ],
   "source": [
    "moviedata"
   ]
  },
  {
   "cell_type": "code",
   "execution_count": 1378,
   "metadata": {
    "collapsed": true
   },
   "outputs": [],
   "source": [
    "target=moviedata[:,-1]"
   ]
  },
  {
   "cell_type": "code",
   "execution_count": 1379,
   "metadata": {
    "collapsed": true
   },
   "outputs": [],
   "source": [
    "factors=moviedata[:,0:-1]"
   ]
  },
  {
   "cell_type": "code",
   "execution_count": 1380,
   "metadata": {},
   "outputs": [
    {
     "data": {
      "text/plain": [
       "array([ 1.56838146, -0.70717154,  0.21893763,  0.51167937, -0.08087925,\n",
       "       -0.28930503, -0.16479519,  1.11698863,  1.2107698 , -0.38704236,\n",
       "       -0.61584295, -0.02585257])"
      ]
     },
     "execution_count": 1380,
     "metadata": {},
     "output_type": "execute_result"
    }
   ],
   "source": [
    "factors[0,:]"
   ]
  },
  {
   "cell_type": "code",
   "execution_count": 1381,
   "metadata": {},
   "outputs": [
    {
     "name": "stdout",
     "output_type": "stream",
     "text": [
      "Coefficients: \n",
      " [ 0.17975106 -0.00132479  0.00254312 -0.00368609  0.03511499 -0.0076661\n",
      "  0.0485081   0.08697491 -0.05767141  0.32529579 -0.13574767  0.00045019]\n",
      "Mean squared error: 0.05\n",
      "Variance score: 0.61\n"
     ]
    }
   ],
   "source": [
    "diabetes_X_train, diabetes_X_test, diabetes_y_train, diabetes_y_test = train_test_split(factors, target, test_size=0.2,random_state=0)\n",
    "\n",
    "# #############################################################################\n",
    "# Fit regression model\n",
    "regr =linear_model.LinearRegression()\n",
    "\n",
    "# Train the model using the training sets\n",
    "regr.fit(diabetes_X_train, diabetes_y_train)\n",
    "\n",
    "diabetes_y_pred = regr.predict(diabetes_X_test)\n",
    "\n",
    "# The coefficients\n",
    "print('Coefficients: \\n', regr.coef_)\n",
    "# The mean squared error\n",
    "print(\"Mean squared error: %.2f\"\n",
    "      % mean_squared_error(diabetes_y_test, diabetes_y_pred))\n",
    "# Explained variance score: 1 is perfect prediction\n",
    "print('Variance score: %.2f' % r2_score(diabetes_y_test, diabetes_y_pred))"
   ]
  },
  {
   "cell_type": "code",
   "execution_count": 1382,
   "metadata": {},
   "outputs": [
    {
     "data": {
      "text/plain": [
       "array([[-0.59194688,  1.76943133, -0.16027308, ..., -0.38704236,\n",
       "        -0.61584295,  1.4462455 ],\n",
       "       [-0.07808238, -0.70717154, -0.5394838 , ..., -0.38704236,\n",
       "        -0.61584295, -0.50272941],\n",
       "       [ 0.32445827, -0.70717154,  0.21893763, ..., -0.38704236,\n",
       "        -0.61584295,  1.66510203],\n",
       "       ..., \n",
       "       [ 1.52078647, -0.70717154, -0.5394838 , ...,  0.57846257,\n",
       "         1.62338014, -0.05810511],\n",
       "       [ 2.65580588,  1.76943133,  1.35656977, ...,  2.67133649,\n",
       "         1.62338014,  0.81732097],\n",
       "       [ 2.7735833 , -0.70717154,  0.21893763, ...,  6.40272907,\n",
       "         1.62338014, -1.50486191]])"
      ]
     },
     "execution_count": 1382,
     "metadata": {},
     "output_type": "execute_result"
    }
   ],
   "source": [
    "diabetes_X_train"
   ]
  },
  {
   "cell_type": "code",
   "execution_count": 1383,
   "metadata": {
    "collapsed": true
   },
   "outputs": [],
   "source": [
    "from sklearn.neural_network import MLPRegressor"
   ]
  },
  {
   "cell_type": "code",
   "execution_count": 1384,
   "metadata": {
    "collapsed": true
   },
   "outputs": [],
   "source": [
    "mlp = MLPRegressor(hidden_layer_sizes=(200,200,200),max_iter=1000000000000000000,tol=0.000001)"
   ]
  },
  {
   "cell_type": "code",
   "execution_count": 1385,
   "metadata": {},
   "outputs": [
    {
     "data": {
      "text/plain": [
       "MLPRegressor(activation='relu', alpha=0.0001, batch_size='auto', beta_1=0.9,\n",
       "       beta_2=0.999, early_stopping=False, epsilon=1e-08,\n",
       "       hidden_layer_sizes=(200, 200, 200), learning_rate='constant',\n",
       "       learning_rate_init=0.001, max_iter=1000000000000000000,\n",
       "       momentum=0.9, nesterovs_momentum=True, power_t=0.5,\n",
       "       random_state=None, shuffle=True, solver='adam', tol=1e-06,\n",
       "       validation_fraction=0.1, verbose=False, warm_start=False)"
      ]
     },
     "execution_count": 1385,
     "metadata": {},
     "output_type": "execute_result"
    }
   ],
   "source": [
    "mlp.fit(diabetes_X_train, diabetes_y_train)"
   ]
  },
  {
   "cell_type": "code",
   "execution_count": 1386,
   "metadata": {},
   "outputs": [
    {
     "name": "stdout",
     "output_type": "stream",
     "text": [
      "Mean squared error: 0.04\n",
      "Variance score: 0.61\n"
     ]
    }
   ],
   "source": [
    "diabetes_y_pred_nerual=mlp.predict(diabetes_X_test)\n",
    "print(\"Mean squared error: %.2f\"\n",
    "      % mean_squared_error(diabetes_y_test, diabetes_y_pred_nerual))\n",
    "# Explained variance score: 1 is perfect prediction\n",
    "print('Variance score: %.2f' % r2_score(diabetes_y_test, diabetes_y_pred))"
   ]
  },
  {
   "cell_type": "code",
   "execution_count": 1387,
   "metadata": {},
   "outputs": [
    {
     "data": {
      "text/plain": [
       "array([ 1.99431624,  1.76943133,  0.21893763,  0.51167937, -0.25617486,\n",
       "       -0.28930503, -0.55388257,  0.39907359,  1.2107698 ,  0.65797474,\n",
       "        1.62338014,  0.41416422])"
      ]
     },
     "execution_count": 1387,
     "metadata": {},
     "output_type": "execute_result"
    }
   ],
   "source": [
    "diabetes_X_test[-1]"
   ]
  },
  {
   "cell_type": "code",
   "execution_count": 1388,
   "metadata": {
    "collapsed": true
   },
   "outputs": [],
   "source": [
    "svr_rbf = SVR(kernel='rbf', C=3, gamma=0.085)"
   ]
  },
  {
   "cell_type": "code",
   "execution_count": 1389,
   "metadata": {
    "collapsed": true
   },
   "outputs": [],
   "source": [
    "y_rbf = svr_rbf.fit(diabetes_X_train, diabetes_y_train)"
   ]
  },
  {
   "cell_type": "code",
   "execution_count": 1390,
   "metadata": {},
   "outputs": [
    {
     "name": "stdout",
     "output_type": "stream",
     "text": [
      "Mean squared error: 0.02\n",
      "Variance score: 0.83\n"
     ]
    }
   ],
   "source": [
    "diabetes_y_pred_rbf=y_rbf.predict(diabetes_X_test)\n",
    "print(\"Mean squared error: %.2f\"\n",
    "      % mean_squared_error(diabetes_y_test, diabetes_y_pred_rbf))\n",
    "# Explained variance score: 1 is perfect prediction\n",
    "print('Variance score: %.2f' % r2_score(diabetes_y_test, diabetes_y_pred_rbf))"
   ]
  },
  {
   "cell_type": "code",
   "execution_count": 1391,
   "metadata": {
    "collapsed": true
   },
   "outputs": [],
   "source": [
    "diabetes_y_pred_rbf_total=y_rbf.predict(factors)"
   ]
  },
  {
   "cell_type": "code",
   "execution_count": 1392,
   "metadata": {},
   "outputs": [
    {
     "data": {
      "text/plain": [
       "3956"
      ]
     },
     "execution_count": 1392,
     "metadata": {},
     "output_type": "execute_result"
    }
   ],
   "source": [
    "len(factors)"
   ]
  },
  {
   "cell_type": "code",
   "execution_count": 1393,
   "metadata": {
    "scrolled": true
   },
   "outputs": [
    {
     "name": "stdout",
     "output_type": "stream",
     "text": [
      "378\n",
      "-0.152464706972\n",
      "-0.152894773668\n",
      "1044\n",
      "-0.151865817406\n",
      "-0.151728948967\n",
      "1052\n",
      "-0.152815852168\n",
      "-0.15236783657\n",
      "1257\n",
      "-0.151762091621\n",
      "-0.152190413999\n",
      "1324\n",
      "-0.0196113551111\n",
      "-0.0198562372222\n",
      "1419\n",
      "-0.0770506735921\n",
      "-0.0773153138981\n",
      "1723\n",
      "-0.152673312364\n",
      "-0.152646404751\n",
      "2482\n",
      "-0.148317856711\n",
      "-0.148505861726\n",
      "2722\n",
      "-0.152335456951\n",
      "-0.152520065363\n",
      "2745\n",
      "-0.152545133468\n",
      "-0.152798724279\n",
      "2756\n",
      "-0.153153259697\n",
      "-0.152755557628\n",
      "2938\n",
      "-0.152370608191\n",
      "-0.152795435175\n",
      "3006\n",
      "-0.145408306688\n",
      "-0.145218701233\n",
      "3082\n",
      "-0.152493761829\n",
      "-0.152977946406\n"
     ]
    }
   ],
   "source": [
    "for j in range(len(diabetes_y_pred_rbf_total)):\n",
    "    if (abs(diabetes_y_pred_rbf_total[j]-target[j])) < 0.0005:\n",
    "        print(j)\n",
    "        print(diabetes_y_pred_rbf_total[j])\n",
    "        print(target[j])"
   ]
  },
  {
   "cell_type": "code",
   "execution_count": 1394,
   "metadata": {},
   "outputs": [
    {
     "data": {
      "image/png": "[encoded data removed]",
      "text/plain": [
       "<matplotlib.figure.Figure at 0x1a2219ae80>"
      ]
     },
     "metadata": {},
     "output_type": "display_data"
    }
   ],
   "source": [
    "plt.scatter(diabetes_y_test, diabetes_y_pred)\n",
    "plt.xlabel('Ture Value')\n",
    "plt.ylabel('Prediction Value')\n",
    "plt.title('Linear Model')\n",
    "plt.text(0.1, 3, r'Mean squared error: 0.04, R2 score: 0.61')\n",
    "plt.show()"
   ]
  },
  {
   "cell_type": "code",
   "execution_count": 1395,
   "metadata": {
    "collapsed": true
   },
   "outputs": [],
   "source": [
    "plt.scatter(diabetes_y_test, diabetes_y_pred_rbf)\n",
    "plt.xlabel('Ture Value')\n",
    "plt.ylabel('Prediction Value')\n",
    "plt.title('SVR Model with RBF Kernel')\n",
    "plt.text(0.1, 2.2, r'Mean squared error: 0.02, R2 score: 0.83')\n",
    "plt.savefig(\"SVR Model\")"
   ]
  },
  {
   "cell_type": "code",
   "execution_count": 1396,
   "metadata": {},
   "outputs": [
    {
     "data": {
      "image/png": "[encoded data removed]",
      "text/plain": [
       "<matplotlib.figure.Figure at 0x11a07fd30>"
      ]
     },
     "metadata": {},
     "output_type": "display_data"
    }
   ],
   "source": [
    "plt.show()"
   ]
  },
  {
   "cell_type": "code",
   "execution_count": 1397,
   "metadata": {
    "collapsed": true
   },
   "outputs": [],
   "source": [
    "movietest=pd.read_csv('/Users/diwu/Desktop/Group Project/testmovie_normalized.csv')"
   ]
  },
  {
   "cell_type": "code",
   "execution_count": 1398,
   "metadata": {},
   "outputs": [
    {
     "data": {
      "text/html": [
       "<div>\n",
       "<style scoped>\n",
       "    .dataframe tbody tr th:only-of-type {\n",
       "        vertical-align: middle;\n",
       "    }\n",
       "\n",
       "    .dataframe tbody tr th {\n",
       "        vertical-align: top;\n",
       "    }\n",
       "\n",
       "    .dataframe thead th {\n",
       "        text-align: right;\n",
       "    }\n",
       "</style>\n",
       "<table border=\"1\" class=\"dataframe\">\n",
       "  <thead>\n",
       "    <tr style=\"text-align: right;\">\n",
       "      <th></th>\n",
       "      <th>Unnamed: 0</th>\n",
       "      <th>Theaters</th>\n",
       "      <th>Country</th>\n",
       "      <th>Genre</th>\n",
       "      <th>Rated</th>\n",
       "      <th>Runtime</th>\n",
       "      <th>Open</th>\n",
       "      <th>imdbRating</th>\n",
       "      <th>Actorinfluenceaverage</th>\n",
       "      <th>if_actorinfluence</th>\n",
       "      <th>googletrends</th>\n",
       "      <th>Average Gross for each movie</th>\n",
       "      <th>if_average_gross</th>\n",
       "      <th>Total_gross</th>\n",
       "    </tr>\n",
       "  </thead>\n",
       "  <tbody>\n",
       "    <tr>\n",
       "      <th>0</th>\n",
       "      <td>0</td>\n",
       "      <td>2.819565</td>\n",
       "      <td>-0.707172</td>\n",
       "      <td>4.011045</td>\n",
       "      <td>0.511679</td>\n",
       "      <td>2.154140</td>\n",
       "      <td>-0.289305</td>\n",
       "      <td>1.002467</td>\n",
       "      <td>4.420049</td>\n",
       "      <td>1.210770</td>\n",
       "      <td>-0.370970</td>\n",
       "      <td>1.623380</td>\n",
       "      <td>369.860099</td>\n",
       "      <td>4.177207</td>\n",
       "    </tr>\n",
       "    <tr>\n",
       "      <th>1</th>\n",
       "      <td>1</td>\n",
       "      <td>2.751803</td>\n",
       "      <td>-0.707172</td>\n",
       "      <td>1.735780</td>\n",
       "      <td>0.511679</td>\n",
       "      <td>1.452957</td>\n",
       "      <td>-0.289305</td>\n",
       "      <td>1.099739</td>\n",
       "      <td>-0.696520</td>\n",
       "      <td>-0.825712</td>\n",
       "      <td>-0.353931</td>\n",
       "      <td>1.623380</td>\n",
       "      <td>458.324209</td>\n",
       "      <td>4.177207</td>\n",
       "    </tr>\n",
       "    <tr>\n",
       "      <th>2</th>\n",
       "      <td>2</td>\n",
       "      <td>2.101607</td>\n",
       "      <td>-0.707172</td>\n",
       "      <td>5.148677</td>\n",
       "      <td>0.511679</td>\n",
       "      <td>0.138240</td>\n",
       "      <td>-0.289305</td>\n",
       "      <td>1.488826</td>\n",
       "      <td>1.210323</td>\n",
       "      <td>1.210770</td>\n",
       "      <td>-0.387042</td>\n",
       "      <td>-0.615843</td>\n",
       "      <td>-1.504862</td>\n",
       "      <td>0.428262</td>\n",
       "    </tr>\n",
       "    <tr>\n",
       "      <th>3</th>\n",
       "      <td>3</td>\n",
       "      <td>2.819565</td>\n",
       "      <td>-0.707172</td>\n",
       "      <td>1.356570</td>\n",
       "      <td>0.511679</td>\n",
       "      <td>0.313536</td>\n",
       "      <td>-0.289305</td>\n",
       "      <td>2.169729</td>\n",
       "      <td>0.070233</td>\n",
       "      <td>1.210770</td>\n",
       "      <td>-0.348678</td>\n",
       "      <td>1.623380</td>\n",
       "      <td>700.448634</td>\n",
       "      <td>1.298176</td>\n",
       "    </tr>\n",
       "    <tr>\n",
       "      <th>4</th>\n",
       "      <td>4</td>\n",
       "      <td>-0.591947</td>\n",
       "      <td>-0.707172</td>\n",
       "      <td>-0.160273</td>\n",
       "      <td>-1.953855</td>\n",
       "      <td>0.094416</td>\n",
       "      <td>-0.289305</td>\n",
       "      <td>1.099739</td>\n",
       "      <td>-0.696520</td>\n",
       "      <td>-0.825712</td>\n",
       "      <td>-0.387042</td>\n",
       "      <td>-0.615843</td>\n",
       "      <td>-1.504862</td>\n",
       "      <td>-0.152692</td>\n",
       "    </tr>\n",
       "    <tr>\n",
       "      <th>5</th>\n",
       "      <td>5</td>\n",
       "      <td>-0.567746</td>\n",
       "      <td>1.769431</td>\n",
       "      <td>0.218938</td>\n",
       "      <td>-1.953855</td>\n",
       "      <td>0.182064</td>\n",
       "      <td>8.535504</td>\n",
       "      <td>-0.748426</td>\n",
       "      <td>-0.696520</td>\n",
       "      <td>-0.825712</td>\n",
       "      <td>-0.387042</td>\n",
       "      <td>-0.615843</td>\n",
       "      <td>-1.504862</td>\n",
       "      <td>-0.152076</td>\n",
       "    </tr>\n",
       "    <tr>\n",
       "      <th>6</th>\n",
       "      <td>6</td>\n",
       "      <td>-0.592754</td>\n",
       "      <td>-0.707172</td>\n",
       "      <td>5.527888</td>\n",
       "      <td>0.511679</td>\n",
       "      <td>0.401184</td>\n",
       "      <td>-0.289305</td>\n",
       "      <td>-0.164795</td>\n",
       "      <td>-0.696520</td>\n",
       "      <td>-0.825712</td>\n",
       "      <td>-0.387042</td>\n",
       "      <td>-0.615843</td>\n",
       "      <td>-1.504862</td>\n",
       "      <td>-0.152945</td>\n",
       "    </tr>\n",
       "  </tbody>\n",
       "</table>\n",
       "</div>"
      ],
      "text/plain": [
       "   Unnamed: 0  Theaters   Country     Genre     Rated   Runtime      Open  \\\n",
       "0           0  2.819565 -0.707172  4.011045  0.511679  2.154140 -0.289305   \n",
       "1           1  2.751803 -0.707172  1.735780  0.511679  1.452957 -0.289305   \n",
       "2           2  2.101607 -0.707172  5.148677  0.511679  0.138240 -0.289305   \n",
       "3           3  2.819565 -0.707172  1.356570  0.511679  0.313536 -0.289305   \n",
       "4           4 -0.591947 -0.707172 -0.160273 -1.953855  0.094416 -0.289305   \n",
       "5           5 -0.567746  1.769431  0.218938 -1.953855  0.182064  8.535504   \n",
       "6           6 -0.592754 -0.707172  5.527888  0.511679  0.401184 -0.289305   \n",
       "\n",
       "   imdbRating  Actorinfluenceaverage  if_actorinfluence  googletrends  \\\n",
       "0    1.002467               4.420049           1.210770     -0.370970   \n",
       "1    1.099739              -0.696520          -0.825712     -0.353931   \n",
       "2    1.488826               1.210323           1.210770     -0.387042   \n",
       "3    2.169729               0.070233           1.210770     -0.348678   \n",
       "4    1.099739              -0.696520          -0.825712     -0.387042   \n",
       "5   -0.748426              -0.696520          -0.825712     -0.387042   \n",
       "6   -0.164795              -0.696520          -0.825712     -0.387042   \n",
       "\n",
       "   Average Gross for each movie  if_average_gross  Total_gross  \n",
       "0                      1.623380        369.860099     4.177207  \n",
       "1                      1.623380        458.324209     4.177207  \n",
       "2                     -0.615843         -1.504862     0.428262  \n",
       "3                      1.623380        700.448634     1.298176  \n",
       "4                     -0.615843         -1.504862    -0.152692  \n",
       "5                     -0.615843         -1.504862    -0.152076  \n",
       "6                     -0.615843         -1.504862    -0.152945  "
      ]
     },
     "execution_count": 1398,
     "metadata": {},
     "output_type": "execute_result"
    }
   ],
   "source": [
    "movietest"
   ]
  },
  {
   "cell_type": "code",
   "execution_count": 1399,
   "metadata": {
    "collapsed": true
   },
   "outputs": [],
   "source": [
    "#del movietest['Unnamed: 0']\n",
    "#del movie['Theaters']\n",
    "del movietest['Country']\n",
    "#del movie['Genre']\n",
    "del movietest['Rated']\n",
    "del movietest['Runtime']\n",
    "del movietest['Open']\n",
    "del movietest['imdbRating']\n",
    "del movietest['Actorinfluenceaverage']\n",
    "del movietest['if_actorinfluence']\n",
    "#del movie['Average Gross for each movie']\n",
    "del movietest['if_average_gross']\n",
    "del movietest['googletrends']"
   ]
  },
  {
   "cell_type": "code",
   "execution_count": 1400,
   "metadata": {
    "collapsed": true
   },
   "outputs": [],
   "source": [
    "movietestarray=movietest.values"
   ]
  },
  {
   "cell_type": "code",
   "execution_count": 1401,
   "metadata": {},
   "outputs": [
    {
     "data": {
      "text/plain": [
       "array([[ 0.        ,  2.8195649 ,  4.01104477,  1.62338014],\n",
       "       [ 1.        ,  2.75180254,  1.73578049,  1.62338014],\n",
       "       [ 2.        ,  2.10160664,  5.14867691, -0.61584295],\n",
       "       [ 3.        ,  2.8195649 ,  1.35656977,  1.62338014],\n",
       "       [ 4.        , -0.59194688, -0.16027308, -0.61584295],\n",
       "       [ 5.        , -0.56774604,  0.21893763, -0.61584295],\n",
       "       [ 6.        , -0.59275358,  5.52788763, -0.61584295]])"
      ]
     },
     "execution_count": 1401,
     "metadata": {},
     "output_type": "execute_result"
    }
   ],
   "source": [
    "factors_test=movietestarray[:,0:-1]\n",
    "factors_test"
   ]
  },
  {
   "cell_type": "code",
   "execution_count": null,
   "metadata": {},
   "outputs": [],
   "source": []
  },
  {
   "cell_type": "code",
   "execution_count": null,
   "metadata": {
    "collapsed": true
   },
   "outputs": [],
   "source": []
  },
  {
   "cell_type": "code",
   "execution_count": null,
   "metadata": {
    "collapsed": true
   },
   "outputs": [],
   "source": []
  },
  {
   "cell_type": "code",
   "execution_count": null,
   "metadata": {
    "collapsed": true
   },
   "outputs": [],
   "source": []
  },
  {
   "cell_type": "code",
   "execution_count": null,
   "metadata": {
    "collapsed": true
   },
   "outputs": [],
   "source": []
  },
  {
   "cell_type": "code",
   "execution_count": null,
   "metadata": {
    "collapsed": true
   },
   "outputs": [],
   "source": []
  },
  {
   "cell_type": "code",
   "execution_count": null,
   "metadata": {
    "collapsed": true
   },
   "outputs": [],
   "source": []
  },
  {
   "cell_type": "code",
   "execution_count": null,
   "metadata": {
    "collapsed": true
   },
   "outputs": [],
   "source": []
  },
  {
   "cell_type": "code",
   "execution_count": null,
   "metadata": {
    "collapsed": true
   },
   "outputs": [],
   "source": []
  },
  {
   "cell_type": "code",
   "execution_count": null,
   "metadata": {
    "collapsed": true
   },
   "outputs": [],
   "source": []
  },
  {
   "cell_type": "code",
   "execution_count": null,
   "metadata": {
    "collapsed": true
   },
   "outputs": [],
   "source": []
  }
 ],
 "metadata": {
  "kernelspec": {
   "display_name": "Python 3",
   "language": "python",
   "name": "python3"
  },
  "language_info": {
   "codemirror_mode": {
    "name": "ipython",
    "version": 3
   },
   "file_extension": ".py",
   "mimetype": "text/x-python",
   "name": "python",
   "nbconvert_exporter": "python",
   "pygments_lexer": "ipython3",
   "version": "3.6.2"
  }
 },
 "nbformat": 4,
 "nbformat_minor": 2
}
